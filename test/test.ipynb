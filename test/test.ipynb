{
 "cells": [
  {
   "cell_type": "markdown",
   "metadata": {},
   "source": [
    "## Question 1\n"
   ]
  },
  {
   "cell_type": "code",
   "execution_count": 15,
   "metadata": {},
   "outputs": [
    {
     "name": "stdout",
     "output_type": "stream",
     "text": [
      "Number of words in text file:  6\n",
      "Number of lines in text file:  2\n",
      "Number of characters in text file:  20\n",
      "Number of spaces in text file:  4\n"
     ]
    }
   ],
   "source": [
    "def analyze_file(filename):\n",
    "\n",
    "\tnum_words = 0\n",
    "\t\n",
    "\tnum_lines = 0\n",
    "\t\n",
    "\tnum_charc = 0\n",
    "\t\n",
    "\tnum_spaces = 0\n",
    "\t\n",
    "\twith open(filename,'r') as f:\n",
    "\t\t\n",
    "\t\tfor line in f:\n",
    "\t\t\tnum_lines += 1\n",
    "\t\t\tword = 'Y'\n",
    "\t\t\tfor letter in line:\n",
    "\t\t\t\tif (letter != ' ' and word == 'Y'):\n",
    "\t\t\t\t\tnum_words += 1\t\t\t\n",
    "\t\t\t\t\tword = 'N'\n",
    "\t\t\t\n",
    "\t\t\t\telif (letter == ' '):\n",
    "\t\t\t\t\tnum_spaces += 1\n",
    "\t\t\t\t\tword = 'Y'\t\n",
    "\t\t\t\tfor i in letter:\n",
    "\t\t\t\t\tif(i !=\" \" and i !=\"\\n\"):\n",
    "\t\t\t\t\t\tnum_charc += 1\n",
    "\t\t\t\t\t\t\t\t\t\t\n",
    "\tprint(\"Number of words in text file: \",\n",
    "\t\tnum_words)\n",
    "\t\n",
    "\tprint(\"Number of lines in text file: \",\n",
    "\t\tnum_lines)\n",
    "\t\n",
    "\tprint('Number of characters in text file: ',\n",
    "\t\tnum_charc)\n",
    "\t\n",
    "\tprint('Number of spaces in text file: ',\n",
    "\t\tnum_spaces)\n",
    "\t\n",
    "\n",
    "if __name__ == '__main__':\n",
    "\tfilename = 'file.txt'\n",
    "\ttry:\n",
    "\t\tanalyze_file(filename)\n",
    "\texcept FileNotFoundError as e:\n",
    "\t\tprint(f\"Error found {e}\")\n"
   ]
  },
  {
   "cell_type": "code",
   "execution_count": 16,
   "metadata": {},
   "outputs": [],
   "source": [
    "def search_box(text):\n",
    "\ttext = open(\"file.txt\", \"r\") \n",
    "\n",
    "\td = dict() \n",
    "\n",
    "\tfor line in text: \n",
    "\t\tline = line.strip() \n",
    "\n",
    "\n",
    "\t\tline = line.lower() \n",
    "\n",
    "\t\twords = line.split(\" \") \n",
    "\n",
    "\n",
    "\t\tfor word in words: \n",
    "\t\t\tif word in d: \n",
    "\t\t\t\td[word] = d[word] + 1\n",
    "\t\t\telse: \n",
    "\t\t\t\td[word] = 1\n",
    "\n",
    "\tfor key in list(d.keys()): \n",
    "\t\tprint(key, \":\", d[key]) \n"
   ]
  },
  {
   "cell_type": "markdown",
   "metadata": {},
   "source": [
    "## Question 2"
   ]
  },
  {
   "cell_type": "code",
   "execution_count": 17,
   "metadata": {},
   "outputs": [],
   "source": [
    "class book():\n",
    "    def __init__(title : str,author : str,isbn :str , is_borrowed : bool):\n",
    "        self.title =title\n",
    "        self.author = author\n",
    "        self.isbn = isbn\n",
    "        self.is_borrowed = is_borrowed\n",
    "    \n",
    "    def borrow(self):\n",
    "        self.is_borrowed is True\n",
    "    def return_book(self):\n",
    "        self.is_borrowed is False\n",
    "\n",
    "class DigitalBook(book):\n",
    "    def __init__(title, author, isbn, is_borrowed,file_format : str):\n",
    "        book.__init__(author, isbn, is_borrowed)\n",
    "    \n",
    "         \n",
    "        "
   ]
  },
  {
   "cell_type": "code",
   "execution_count": null,
   "metadata": {},
   "outputs": [],
   "source": []
  },
  {
   "cell_type": "code",
   "execution_count": null,
   "metadata": {},
   "outputs": [],
   "source": []
  },
  {
   "cell_type": "code",
   "execution_count": null,
   "metadata": {},
   "outputs": [],
   "source": []
  },
  {
   "cell_type": "code",
   "execution_count": null,
   "metadata": {},
   "outputs": [],
   "source": []
  },
  {
   "cell_type": "code",
   "execution_count": null,
   "metadata": {},
   "outputs": [],
   "source": []
  }
 ],
 "metadata": {
  "kernelspec": {
   "display_name": "base",
   "language": "python",
   "name": "python3"
  },
  "language_info": {
   "codemirror_mode": {
    "name": "ipython",
    "version": 3
   },
   "file_extension": ".py",
   "mimetype": "text/x-python",
   "name": "python",
   "nbconvert_exporter": "python",
   "pygments_lexer": "ipython3",
   "version": "3.12.4"
  }
 },
 "nbformat": 4,
 "nbformat_minor": 2
}
